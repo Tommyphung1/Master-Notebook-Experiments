{
 "cells": [
  {
   "cell_type": "markdown",
   "id": "b2432b1f-929a-47f4-acaa-c695d7b0156d",
   "metadata": {},
   "source": [
    "# R Coding Pratice and Sytax\n",
    "I used this [article](https://richpauloo.github.io/2018-05-16-Installing-the-R-kernel-in-Jupyter-Lab/) to help install R in so that it can be used in Jupter Lab. "
   ]
  },
  {
   "cell_type": "code",
   "execution_count": null,
   "id": "d8c64519-c15c-43fe-af72-8243c2ac91e4",
   "metadata": {},
   "outputs": [],
   "source": [
    "R can perform basic mathmatic operation and will display the result when run. "
   ]
  },
  {
   "cell_type": "code",
   "execution_count": 16,
   "id": "dfd65bdf-b046-44c7-9a6a-0d06b7f0836d",
   "metadata": {},
   "outputs": [],
   "source": [
    "# Addition \n",
    "2 + 2\n",
    "# Multiplication\n",
    "2 * 5"
   ]
  },
  {
   "cell_type": "code",
   "execution_count": 27,
   "id": "c4e55c96-c386-4222-8db4-8cb62b34025c",
   "metadata": {},
   "outputs": [
    {
     "data": {
      "text/html": [
       "<table class=\"dataframe\">\n",
       "<caption>A data.frame: 1 × 2</caption>\n",
       "<thead>\n",
       "\t<tr><th></th><th scope=col>coffees</th><th scope=col>adjusted_coffees</th></tr>\n",
       "\t<tr><th></th><th scope=col>&lt;dbl&gt;</th><th scope=col>&lt;dbl&gt;</th></tr>\n",
       "</thead>\n",
       "<tbody>\n",
       "\t<tr><th scope=row>1</th><td>2</td><td>2.4</td></tr>\n",
       "</tbody>\n",
       "</table>\n"
      ],
      "text/latex": [
       "A data.frame: 1 × 2\n",
       "\\begin{tabular}{r|ll}\n",
       "  & coffees & adjusted\\_coffees\\\\\n",
       "  & <dbl> & <dbl>\\\\\n",
       "\\hline\n",
       "\t1 & 2 & 2.4\\\\\n",
       "\\end{tabular}\n"
      ],
      "text/markdown": [
       "\n",
       "A data.frame: 1 × 2\n",
       "\n",
       "| <!--/--> | coffees &lt;dbl&gt; | adjusted_coffees &lt;dbl&gt; |\n",
       "|---|---|---|\n",
       "| 1 | 2 | 2.4 |\n",
       "\n"
      ],
      "text/plain": [
       "  coffees adjusted_coffees\n",
       "1 2       2.4             "
      ]
     },
     "metadata": {},
     "output_type": "display_data"
    },
    {
     "data": {
      "text/html": [
       "<style>\n",
       ".list-inline {list-style: none; margin:0; padding: 0}\n",
       ".list-inline>li {display: inline-block}\n",
       ".list-inline>li:not(:last-child)::after {content: \"\\00b7\"; padding: 0 .5ex}\n",
       "</style>\n",
       "<ol class=list-inline><li>2</li><li>1</li><li>2</li><li>3</li><li>1</li><li>2</li><li>0</li><li>2</li><li>3</li><li>1</li></ol>\n"
      ],
      "text/latex": [
       "\\begin{enumerate*}\n",
       "\\item 2\n",
       "\\item 1\n",
       "\\item 2\n",
       "\\item 3\n",
       "\\item 1\n",
       "\\item 2\n",
       "\\item 0\n",
       "\\item 2\n",
       "\\item 3\n",
       "\\item 1\n",
       "\\end{enumerate*}\n"
      ],
      "text/markdown": [
       "1. 2\n",
       "2. 1\n",
       "3. 2\n",
       "4. 3\n",
       "5. 1\n",
       "6. 2\n",
       "7. 0\n",
       "8. 2\n",
       "9. 3\n",
       "10. 1\n",
       "\n",
       "\n"
      ],
      "text/plain": [
       " [1] 2 1 2 3 1 2 0 2 3 1"
      ]
     },
     "metadata": {},
     "output_type": "display_data"
    }
   ],
   "source": [
    "# Assignment\n",
    "number <- 2 + 2\n",
    "# Vector Assignment\n",
    "coffees <- c(2,1,2,3,1,2,0,2,3,1)\n",
    "# Element-Wise Operation\n",
    "adjusted_coffees <- coffees * 1.2\n",
    "# Convert to Dataframe\n",
    "coffee_data <- data.frame(coffees, adjusted_coffees)\n",
    "# Index Access (Starting at 1 instead of 0)\n",
    "# [Row, Column]\n",
    "coffee_data[1, ]\n",
    "# Access Column using name \n",
    "# Access dataframe coffee data and the column coffees\n",
    "coffee_data$coffees\n"
   ]
  },
  {
   "cell_type": "markdown",
   "id": "bf66e926-1bbf-412f-a94c-8646cdd84d43",
   "metadata": {},
   "source": [
    "# R functions\n",
    "sum(n,...n_n) - Sum of all values\n",
    "\n",
    "base:: - R function location. Can be used to find valid functions\n",
    "library::function_name - Without (), R will state the purpose of the function. "
   ]
  },
  {
   "cell_type": "code",
   "execution_count": 41,
   "id": "f2e64f48-6a98-4d88-a006-2e840ebca387",
   "metadata": {},
   "outputs": [
    {
     "data": {
      "text/html": [
       "<pre class=language-r><code>.Primitive(\"sum\")</code></pre>"
      ],
      "text/latex": [
       "\\begin{minted}{r}\n",
       ".Primitive(\"sum\")\n",
       "\\end{minted}"
      ],
      "text/markdown": [
       "```r\n",
       ".Primitive(\"sum\")\n",
       "```"
      ],
      "text/plain": [
       "function (..., na.rm = FALSE)  .Primitive(\"sum\")"
      ]
     },
     "metadata": {},
     "output_type": "display_data"
    },
    {
     "data": {
      "text/html": [
       "7"
      ],
      "text/latex": [
       "7"
      ],
      "text/markdown": [
       "7"
      ],
      "text/plain": [
       "[1] 7"
      ]
     },
     "metadata": {},
     "output_type": "display_data"
    }
   ],
   "source": [
    "# Request more information from the function when run without ()\n",
    "sum # base::sum\n",
    "\n",
    "# Sum of 1, 2 and 4\n",
    "sum(1,2,4) # base::sum(1, 2, 3)"
   ]
  },
  {
   "cell_type": "markdown",
   "id": "b1870cc1-188a-4caf-b6df-125d30df829d",
   "metadata": {},
   "source": [
    "## Custom Functions\n",
    "Create custom function for personal use.\n",
    "\n",
    "name_of_function <- function () {}"
   ]
  },
  {
   "cell_type": "code",
   "execution_count": 47,
   "id": "4b0e9c85-d930-4072-93b9-f1dd6ac948d2",
   "metadata": {},
   "outputs": [],
   "source": [
    "# Example Function\n",
    "convert_f_to_c <- function(farh_number)   # function_name <- function_declaration (\n",
    "    {\n",
    "         celc <- (farh_number - 32) / 1.8\n",
    "         celc\n",
    "    }"
   ]
  },
  {
   "cell_type": "code",
   "execution_count": 48,
   "id": "522761a9-7848-41a8-a5ca-a7786bd5527c",
   "metadata": {},
   "outputs": [
    {
     "data": {
      "text/html": [
       "-12.2222222222222"
      ],
      "text/latex": [
       "-12.2222222222222"
      ],
      "text/markdown": [
       "-12.2222222222222"
      ],
      "text/plain": [
       "[1] -12.22222"
      ]
     },
     "metadata": {},
     "output_type": "display_data"
    }
   ],
   "source": [
    "convert_f_to_c(10)"
   ]
  },
  {
   "cell_type": "code",
   "execution_count": null,
   "id": "a20413a0-651f-48d1-be54-051618d626d1",
   "metadata": {},
   "outputs": [],
   "source": []
  }
 ],
 "metadata": {
  "kernelspec": {
   "display_name": "R",
   "language": "R",
   "name": "ir"
  },
  "language_info": {
   "codemirror_mode": "r",
   "file_extension": ".r",
   "mimetype": "text/x-r-source",
   "name": "R",
   "pygments_lexer": "r",
   "version": "4.3.1"
  }
 },
 "nbformat": 4,
 "nbformat_minor": 5
}
